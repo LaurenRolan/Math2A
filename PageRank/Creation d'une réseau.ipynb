{
 "cells": [
  {
   "cell_type": "code",
   "execution_count": 1,
   "metadata": {},
   "outputs": [],
   "source": [
    "import numpy as np\n",
    "import pandas as pd\n",
    "from scipy.sparse import csr_matrix\n",
    "import matplotlib.pyplot as plt"
   ]
  },
  {
   "cell_type": "code",
   "execution_count": 2,
   "metadata": {},
   "outputs": [],
   "source": [
    "def create_net(size):\n",
    "    A = np.zeros((size, size))\n",
    "    for col in A:\n",
    "        num_links = np.random.randint(0, size)\n",
    "        for i in range(num_links):\n",
    "            col[i] = 1 / num_links\n",
    "        np.random.shuffle(col)\n",
    "    A = A.transpose()\n",
    "    return A\n",
    "\n",
    "def calculateM(A, alpha):\n",
    "    M = (1 - alpha) * A\n",
    "    S = np.ones((M.shape[0], M.shape[0]))\n",
    "    S = (alpha / M.shape[0]) * S\n",
    "    M = M + S\n",
    "    return M"
   ]
  },
  {
   "cell_type": "code",
   "execution_count": 3,
   "metadata": {},
   "outputs": [],
   "source": [
    "def get_constants(A, gamma):\n",
    "    beta = 4 + A.shape[0] * gamma\n",
    "    mu = 1.99 / beta\n",
    "    return beta, mu"
   ]
  },
  {
   "cell_type": "code",
   "execution_count": 4,
   "metadata": {},
   "outputs": [
    {
     "data": {
      "text/html": [
       "<div>\n",
       "<style scoped>\n",
       "    .dataframe tbody tr th:only-of-type {\n",
       "        vertical-align: middle;\n",
       "    }\n",
       "\n",
       "    .dataframe tbody tr th {\n",
       "        vertical-align: top;\n",
       "    }\n",
       "\n",
       "    .dataframe thead th {\n",
       "        text-align: right;\n",
       "    }\n",
       "</style>\n",
       "<table border=\"1\" class=\"dataframe\">\n",
       "  <thead>\n",
       "    <tr style=\"text-align: right;\">\n",
       "      <th></th>\n",
       "      <th>0</th>\n",
       "      <th>1</th>\n",
       "      <th>2</th>\n",
       "      <th>3</th>\n",
       "      <th>4</th>\n",
       "    </tr>\n",
       "  </thead>\n",
       "  <tbody>\n",
       "    <tr>\n",
       "      <th>0</th>\n",
       "      <td>0.03</td>\n",
       "      <td>0.313333</td>\n",
       "      <td>0.455</td>\n",
       "      <td>0.03</td>\n",
       "      <td>0.03</td>\n",
       "    </tr>\n",
       "    <tr>\n",
       "      <th>1</th>\n",
       "      <td>0.03</td>\n",
       "      <td>0.313333</td>\n",
       "      <td>0.030</td>\n",
       "      <td>0.03</td>\n",
       "      <td>0.88</td>\n",
       "    </tr>\n",
       "    <tr>\n",
       "      <th>2</th>\n",
       "      <td>0.88</td>\n",
       "      <td>0.313333</td>\n",
       "      <td>0.030</td>\n",
       "      <td>0.03</td>\n",
       "      <td>0.03</td>\n",
       "    </tr>\n",
       "    <tr>\n",
       "      <th>3</th>\n",
       "      <td>0.03</td>\n",
       "      <td>0.030000</td>\n",
       "      <td>0.030</td>\n",
       "      <td>0.88</td>\n",
       "      <td>0.03</td>\n",
       "    </tr>\n",
       "    <tr>\n",
       "      <th>4</th>\n",
       "      <td>0.03</td>\n",
       "      <td>0.030000</td>\n",
       "      <td>0.455</td>\n",
       "      <td>0.03</td>\n",
       "      <td>0.03</td>\n",
       "    </tr>\n",
       "  </tbody>\n",
       "</table>\n",
       "</div>"
      ],
      "text/plain": [
       "      0         1      2     3     4\n",
       "0  0.03  0.313333  0.455  0.03  0.03\n",
       "1  0.03  0.313333  0.030  0.03  0.88\n",
       "2  0.88  0.313333  0.030  0.03  0.03\n",
       "3  0.03  0.030000  0.030  0.88  0.03\n",
       "4  0.03  0.030000  0.455  0.03  0.03"
      ]
     },
     "execution_count": 4,
     "metadata": {},
     "output_type": "execute_result"
    }
   ],
   "source": [
    "A = create_net(5)    #matrice(1000x1000)\n",
    "S = csr_matrix(A)\n",
    "M = calculateM(S, 0.15) #alpha = 0.15\n",
    "net = pd.DataFrame(M)\n",
    "net.head()"
   ]
  },
  {
   "cell_type": "code",
   "execution_count": 5,
   "metadata": {},
   "outputs": [],
   "source": [
    "def get_gamma(n_sqrd, size):\n",
    "    if(n_sqrd):\n",
    "        return float (1) / size * size #gamma = 1 / n²\n",
    "    return float (1) / size            #gamma = 1 / n\n",
    "\n",
    "gamma = get_gamma(False, M.shape[0])\n",
    "beta, mu = get_constants(A, gamma)"
   ]
  },
  {
   "cell_type": "code",
   "execution_count": 6,
   "metadata": {},
   "outputs": [],
   "source": [
    "def get_score_vector(M):\n",
    "    v, w = np.linalg.eig(M)\n",
    "    v = np.real(v)\n",
    "    (m,) = np.shape(v)\n",
    "    for i in range(m):\n",
    "        if abs(v[i]-1) < 1e-2:\n",
    "            vi = w[:, i]\n",
    "    vi = np.real(vi)\n",
    "    vi = vi/np.linalg.norm(vi, 1)\n",
    "    vi = np.round(vi, 3)\n",
    "    return(vi)\n",
    "\n",
    "def get_random_x(size):\n",
    "    return np.matrix(np.random.randint(size-1, size=size).reshape((size, 1)))"
   ]
  },
  {
   "cell_type": "code",
   "execution_count": 7,
   "metadata": {},
   "outputs": [],
   "source": [
    "def Hessian(M, gamma):\n",
    "    I = np.identity(M.shape[0])\n",
    "    e_square = np.ones((M.shape[0], M.shape[0]))\n",
    "    return np.transpose(M - I) * (M - I) + gamma * e_square\n",
    "\n",
    "def DF(x, M, gamma):\n",
    "    e = np.ones((M.shape[0], 1))\n",
    "    return Hessian(M, gamma) * x - gamma * e\n",
    "\n",
    "def F(x, M, gamma):\n",
    "    ''' inner_x = 1/2 ||Mx - x||\n",
    "        inner_y = gamma/2 (sum(x) -1)^2'''\n",
    "    inner_X = 0.5 * np.linalg.norm( M * x - x )\n",
    "    inner_Y = gamma * 0.5 * (np.sum(x) - 1) ** 2\n",
    "    return np.round(inner_X + inner_Y, 5)"
   ]
  },
  {
   "cell_type": "code",
   "execution_count": 17,
   "metadata": {},
   "outputs": [],
   "source": [
    "x_etoile = get_score_vector(M)\n",
    "x_current = get_random_x(M.shape[0])\n",
    "r_current = x_etoile - S * x_current\n",
    "p_current = r_current"
   ]
  },
  {
   "cell_type": "code",
   "execution_count": 18,
   "metadata": {},
   "outputs": [],
   "source": [
    "points = []\n",
    "logs = []\n",
    "fs = []\n",
    "iterations = 50"
   ]
  },
  {
   "cell_type": "code",
   "execution_count": 19,
   "metadata": {},
   "outputs": [],
   "source": [
    "for i in range(iterations):\n",
    "    alpha = np.asscalar((np.transpose(r_current) * r_current) / ( np.transpose(p_current) * S * p_current))\n",
    "    x_current = x_current + alpha * p_current\n",
    "    r_ancient = r_current\n",
    "    r_current = r_current - alpha * S * p_current\n",
    "\n",
    "    if( np.linalg.norm(r_current) < 1e-5 ):\n",
    "        break\n",
    "    \n",
    "    beta = np.asscalar((np.transpose(r_current) * r_current) / (np.transpose(r_ancient) * r_ancient))\n",
    "    p_current = r_current + beta * p_current\n",
    "    \n",
    "    points.append(np.linalg.norm(x_current - x_etoile))\n",
    "    logs.append(np.log(1 + np.linalg.norm(x_etoile - x_current)))\n",
    "    fs.append(F(x_current, M, gamma))"
   ]
  },
  {
   "cell_type": "code",
   "execution_count": 20,
   "metadata": {},
   "outputs": [
    {
     "data": {
      "image/png": "[encoded data removed]",
      "text/plain": [
       "<Figure size 1296x360 with 2 Axes>"
      ]
     },
     "metadata": {
      "needs_background": "light"
     },
     "output_type": "display_data"
    }
   ],
   "source": [
    "f, (ax1, ax2) = plt.subplots(1, 2, sharey=True, figsize=(18, 5))\n",
    "x = [x for x in range(0, iterations)]\n",
    "ax1.plot(x, points)\n",
    "ax1.set_title('Curbe de ||x(k) - x*||')\n",
    "ax2.scatter(x, logs)\n",
    "ax2.set_title('Curbe du log(1 + ||x* - x(k)||)')\n",
    "plt.show()"
   ]
  },
  {
   "cell_type": "code",
   "execution_count": 21,
   "metadata": {},
   "outputs": [
    {
     "data": {
      "image/png": "[encoded data removed]",
      "text/plain": [
       "<Figure size 432x288 with 1 Axes>"
      ]
     },
     "metadata": {
      "needs_background": "light"
     },
     "output_type": "display_data"
    }
   ],
   "source": [
    "plt.plot([x for x in range(0, iterations)], fs, 'b^')\n",
    "plt.show()"
   ]
  },
  {
   "cell_type": "code",
   "execution_count": null,
   "metadata": {},
   "outputs": [],
   "source": []
  }
 ],
 "metadata": {
  "kernelspec": {
   "display_name": "Python 3",
   "language": "python",
   "name": "python3"
  },
  "language_info": {
   "codemirror_mode": {
    "name": "ipython",
    "version": 3
   },
   "file_extension": ".py",
   "mimetype": "text/x-python",
   "name": "python",
   "nbconvert_exporter": "python",
   "pygments_lexer": "ipython3",
   "version": "3.6.7"
  }
 },
 "nbformat": 4,
 "nbformat_minor": 2
}
