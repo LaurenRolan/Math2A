{
 "cells": [
  {
   "cell_type": "markdown",
   "metadata": {},
   "source": [
    "# Calcul du Gradient\n",
    "L'objectif de ce _notebook_ est définir le calcul du gradient pour un réseau donné (ici appelé MiniNetA)."
   ]
  },
  {
   "cell_type": "code",
   "execution_count": 1,
   "metadata": {},
   "outputs": [],
   "source": [
    "import numpy as np\n",
    "import pandas as pd\n",
    "from scipy.sparse import csr_matrix\n",
    "import matplotlib.pyplot as plt"
   ]
  },
  {
   "cell_type": "code",
   "execution_count": 2,
   "metadata": {},
   "outputs": [],
   "source": [
    "def create_mini_net_A():\n",
    "    A = np.matrix([[0, 1/3., 1/3., 1/3.],\n",
    "                   [0, 0, 1/2., 1/2.],\n",
    "                   [1, 0, 0, 0],\n",
    "                   [1/2., 0, 1/2., 0]]).transpose()\n",
    "    return A\n",
    "\n",
    "def calculateM(A, alpha):\n",
    "    M = (1 - alpha) * A\n",
    "    S = np.ones((M.shape[0], M.shape[0]))\n",
    "    S = (alpha / M.shape[0]) * S\n",
    "    M = M + S\n",
    "    return M"
   ]
  },
  {
   "cell_type": "markdown",
   "metadata": {},
   "source": [
    "Dans le travail préparatoire, on a vérifié qui la valeur de _beta_ doit attendre le consigne: 4 + _gamma_ * n."
   ]
  },
  {
   "cell_type": "code",
   "execution_count": 3,
   "metadata": {},
   "outputs": [],
   "source": [
    "def get_constants(A, gamma):\n",
    "    beta = 4 + A.shape[0] * gamma\n",
    "    mu = 1.99 / beta\n",
    "    return beta, mu"
   ]
  },
  {
   "cell_type": "code",
   "execution_count": 4,
   "metadata": {},
   "outputs": [
    {
     "data": {
      "text/html": [
       "<div>\n",
       "<style scoped>\n",
       "    .dataframe tbody tr th:only-of-type {\n",
       "        vertical-align: middle;\n",
       "    }\n",
       "\n",
       "    .dataframe tbody tr th {\n",
       "        vertical-align: top;\n",
       "    }\n",
       "\n",
       "    .dataframe thead th {\n",
       "        text-align: right;\n",
       "    }\n",
       "</style>\n",
       "<table border=\"1\" class=\"dataframe\">\n",
       "  <thead>\n",
       "    <tr style=\"text-align: right;\">\n",
       "      <th></th>\n",
       "      <th>0</th>\n",
       "      <th>1</th>\n",
       "      <th>2</th>\n",
       "      <th>3</th>\n",
       "    </tr>\n",
       "  </thead>\n",
       "  <tbody>\n",
       "    <tr>\n",
       "      <th>0</th>\n",
       "      <td>0.037500</td>\n",
       "      <td>0.0375</td>\n",
       "      <td>0.8875</td>\n",
       "      <td>0.4625</td>\n",
       "    </tr>\n",
       "    <tr>\n",
       "      <th>1</th>\n",
       "      <td>0.320833</td>\n",
       "      <td>0.0375</td>\n",
       "      <td>0.0375</td>\n",
       "      <td>0.0375</td>\n",
       "    </tr>\n",
       "    <tr>\n",
       "      <th>2</th>\n",
       "      <td>0.320833</td>\n",
       "      <td>0.4625</td>\n",
       "      <td>0.0375</td>\n",
       "      <td>0.4625</td>\n",
       "    </tr>\n",
       "    <tr>\n",
       "      <th>3</th>\n",
       "      <td>0.320833</td>\n",
       "      <td>0.4625</td>\n",
       "      <td>0.0375</td>\n",
       "      <td>0.0375</td>\n",
       "    </tr>\n",
       "  </tbody>\n",
       "</table>\n",
       "</div>"
      ],
      "text/plain": [
       "          0       1       2       3\n",
       "0  0.037500  0.0375  0.8875  0.4625\n",
       "1  0.320833  0.0375  0.0375  0.0375\n",
       "2  0.320833  0.4625  0.0375  0.4625\n",
       "3  0.320833  0.4625  0.0375  0.0375"
      ]
     },
     "execution_count": 4,
     "metadata": {},
     "output_type": "execute_result"
    }
   ],
   "source": [
    "A = create_mini_net_A()\n",
    "M = calculateM(A, 0.15) #alpha = 0.15\n",
    "frame = pd.DataFrame(M)\n",
    "frame"
   ]
  },
  {
   "cell_type": "markdown",
   "metadata": {},
   "source": [
    "Ci-dessous, le code pour sélectionner la valeur de _gamma_. Pour changer la valeur (de 1/n² à 1/n) il faut changer l'argument de __get_gamma__ à __False__."
   ]
  },
  {
   "cell_type": "code",
   "execution_count": 5,
   "metadata": {},
   "outputs": [],
   "source": [
    "def get_gamma(n_sqrd, size):\n",
    "    if(n_sqrd):\n",
    "        return float (1) / size * size #gamma = 1 / n²\n",
    "    return float (1) / size            #gamma = 1 / n\n",
    "\n",
    "gamma = get_gamma(False, M.shape[0])   #False = 1 / n || True = 1 / n²\n",
    "beta, mu = get_constants(A, gamma)"
   ]
  },
  {
   "cell_type": "markdown",
   "metadata": {},
   "source": [
    "La fonction ci-dessous pour l'obtention du vecteur optimal a été basée sur une méthode d'un collègue.\n",
    "La fonction __get_random_x__ génère un vecteur randomique pour être le x(0) de l'algorithme."
   ]
  },
  {
   "cell_type": "code",
   "execution_count": 6,
   "metadata": {},
   "outputs": [],
   "source": [
    "def get_score_vector(M):\n",
    "    v, w = np.linalg.eig(M)\n",
    "    v = np.real(v)\n",
    "    (m,) = np.shape(v)\n",
    "    for i in range(m):\n",
    "        if abs(v[i]-1) < 1e-3:\n",
    "            vi = w[:, i]\n",
    "    vi = np.real(vi)\n",
    "    vi = vi/np.linalg.norm(vi, 1)\n",
    "    vi = np.round(vi, 3)\n",
    "    return(vi)\n",
    "\n",
    "def get_random_x(size):\n",
    "    return np.matrix(np.random.randint(size-1, size=size).reshape((size, 1)))"
   ]
  },
  {
   "cell_type": "markdown",
   "metadata": {},
   "source": [
    "Ci-dessous, les fonctions pour le calcul de l'hessienne, du gradient et de la fonction principale."
   ]
  },
  {
   "cell_type": "code",
   "execution_count": 7,
   "metadata": {},
   "outputs": [],
   "source": [
    "def Hessian(M, gamma):\n",
    "    I = np.identity(M.shape[0])\n",
    "    e_square = np.ones((M.shape[0], M.shape[0]))\n",
    "    return np.transpose(M - I) * (M - I) + gamma * e_square\n",
    "\n",
    "def DF(x, M, gamma):\n",
    "    e = np.ones((M.shape[0], 1))\n",
    "    return Hessian(M, gamma) * x - gamma * e\n",
    "\n",
    "def F(x, M, gamma):\n",
    "    ''' inner_x = 1/2 ||Mx - x||\n",
    "        inner_y = gamma/2 (sum(x) -1)^2'''\n",
    "    inner_X = 0.5 * np.linalg.norm( M * x - x )\n",
    "    inner_Y = gamma * 0.5 * (np.sum(x) - 1) ** 2\n",
    "    return inner_X + inner_Y, 5"
   ]
  },
  {
   "cell_type": "code",
   "execution_count": 8,
   "metadata": {},
   "outputs": [],
   "source": [
    "x_etoile = get_score_vector(M)\n",
    "x_current = get_random_x(M.shape[0])"
   ]
  },
  {
   "cell_type": "markdown",
   "metadata": {},
   "source": [
    "Les listes suivantes sertent à :\n",
    "* points : contient les modules || x(k) - x* ||\n",
    "* logs : contient les log( 1 + || x(k) - x* || )\n",
    "* fs : valeurs de la fonction dans le point x(k)"
   ]
  },
  {
   "cell_type": "code",
   "execution_count": 9,
   "metadata": {},
   "outputs": [],
   "source": [
    "points = []\n",
    "logs = []\n",
    "fs = []\n",
    "iterations = 20"
   ]
  },
  {
   "cell_type": "markdown",
   "metadata": {},
   "source": [
    "Le boucle principal est composé seulement par l'_update_ de x_current ( x(k+1) )."
   ]
  },
  {
   "cell_type": "code",
   "execution_count": 10,
   "metadata": {},
   "outputs": [],
   "source": [
    "for i in range(iterations):\n",
    "    x_current = x_current - mu * DF(x_current, M, gamma)\n",
    "    \n",
    "    points.append(np.linalg.norm(x_current - x_etoile))\n",
    "    logs.append(np.log(1 + np.linalg.norm(x_current - x_etoile)))\n",
    "    fs.append(F(x_current, M, gamma))"
   ]
  },
  {
   "cell_type": "code",
   "execution_count": 11,
   "metadata": {},
   "outputs": [
    {
     "data": {
      "image/png": "[encoded data removed]",
      "text/plain": [
       "<Figure size 1296x360 with 2 Axes>"
      ]
     },
     "metadata": {
      "needs_background": "light"
     },
     "output_type": "display_data"
    }
   ],
   "source": [
    "f, (ax1, ax2) = plt.subplots(1, 2, sharey=True, figsize=(18, 5))\n",
    "x = [x for x in range(0, iterations)]\n",
    "ax1.plot(x, points)\n",
    "ax1.set_title('Curbe de ||x(k) - x*||')\n",
    "ax2.scatter(x, logs)\n",
    "ax2.set_title('Curbe du log(1 + ||x* - x(k)||)')\n",
    "plt.show()"
   ]
  },
  {
   "cell_type": "markdown",
   "metadata": {},
   "source": [
    "### Question 1 -- Résultats obtenus\n",
    "Les plots ci-dessus montrent que en fait la curbe de mis-à-jour est très similaire à la courbe du logarithme du module. En observant la courbe de la fonction, on peut remarquer que la convergence est atteinte tôt car le point optimale était déjà proche au vecteur de début (randomique)."
   ]
  },
  {
   "cell_type": "code",
   "execution_count": 12,
   "metadata": {},
   "outputs": [
    {
     "data": {
      "image/png": "[encoded data removed]",
      "text/plain": [
       "<Figure size 432x288 with 1 Axes>"
      ]
     },
     "metadata": {
      "needs_background": "light"
     },
     "output_type": "display_data"
    }
   ],
   "source": [
    "plt.plot([x for x in range(0, iterations)], fs, 'b^')\n",
    "plt.show()"
   ]
  },
  {
   "cell_type": "markdown",
   "metadata": {},
   "source": [
    "### Question 2 -- Comparaison de la vitesse\n",
    "Pour évaluer la vitesse, il faut calculer les eigenvalues de la matrice AA(-1). D'accord le TD2, la taux de convergence optimale est donnée par 2 * ( _lambda_(n) - 1) / (_lambda_(1) + _lambda_(n)).\n",
    "La fonction ci-dessous renvoie la valeur de _lambda_(1), _lambda_(n)."
   ]
  },
  {
   "cell_type": "code",
   "execution_count": 13,
   "metadata": {},
   "outputs": [
    {
     "name": "stdout",
     "output_type": "stream",
     "text": [
      "Vitesse théorique: 0.16336182515708017\n"
     ]
    }
   ],
   "source": [
    "def get_lambdas(A, mu):\n",
    "    I = np.identity(A.shape[0])\n",
    "    matrix = I - mu * np.transpose(A) * A\n",
    "    lambdas = np.linalg.eig(matrix)\n",
    "    return lambdas[0][0], lambdas[0][-1]\n",
    "lambda1, lambdan = get_lambdas(A, mu)\n",
    "print(\"Vitesse théorique: \" + str(2 * (lambdan - 1) / ( lambda1 - lambdan )))"
   ]
  },
  {
   "cell_type": "markdown",
   "metadata": {},
   "source": [
    "Ici, on compare la vittesse théorique et la moyenne entre les différences observées. On voit que pour _gamma_ = 1 / n² la vitesse moyenne est inférieure à la moyenne. Par contre, avec _gamma_ = 1 / n, la baisse de la courbe est plus fort, et la vitesse, plus haute."
   ]
  },
  {
   "cell_type": "code",
   "execution_count": 14,
   "metadata": {},
   "outputs": [
    {
     "name": "stdout",
     "output_type": "stream",
     "text": [
      "Vitesse moyenne: 0.13411237125769987\n"
     ]
    }
   ],
   "source": [
    "moyenne = sum(points) / len(points)\n",
    "print(\"Vitesse moyenne: \" + str(moyenne))"
   ]
  },
  {
   "cell_type": "markdown",
   "metadata": {},
   "source": [
    "### Question 3 -- Complexité à chaque itération\n",
    "La complexité de chaque itération est à cause de la transposition des matrices ( O(n) ) et multiplications ( O(n³) ). Donc, la complexité de la ligne de mis à jour est, au pire, O(2n³)."
   ]
  },
  {
   "cell_type": "markdown",
   "metadata": {},
   "source": [
    "### Question 4 -- Comment accelerer\n",
    "On peut utiliser la valeur auxiliaire y(k), qui ajoute un facteur de \"inertia\" au algorithme. Donc, le pas de chaque itération est plus grand, aussi comme le temps de stabilisation. On peut voir l'oscilation du résultat Dans les figures ci-dessous.\n",
    "La complexité du nouveau algorithme est presque la même: une seule subtraction entre vecteurs était ajouté, avec complexité O(n)."
   ]
  },
  {
   "cell_type": "code",
   "execution_count": 24,
   "metadata": {},
   "outputs": [
    {
     "data": {
      "image/png": "[encoded data removed]",
      "text/plain": [
       "<Figure size 1296x360 with 2 Axes>"
      ]
     },
     "metadata": {
      "needs_background": "light"
     },
     "output_type": "display_data"
    }
   ],
   "source": [
    "points = []\n",
    "logs = []\n",
    "x_current = get_random_x(M.shape[0])\n",
    "x_ancient = x_current\n",
    "iterations = 50\n",
    "\n",
    "for i in range(iterations):\n",
    "    y_current = x_current + (1 - gamma * mu) * (x_current - x_ancient)\n",
    "    x_ancient = x_current\n",
    "    x_current = y_current - mu * mu * DF(y_current, M, gamma)\n",
    "\n",
    "    points.append(np.linalg.norm(x_current - x_etoile))\n",
    "    logs.append(np.log(1 + np.linalg.norm(x_current - x_etoile)))\n",
    "    \n",
    "f, (ax1, ax2) = plt.subplots(1, 2, sharey=True, figsize=(18, 5))\n",
    "x = [x for x in range(0, iterations)]\n",
    "ax1.plot(x, points)\n",
    "ax1.set_title('Curbe de ||x(k) - x*||')\n",
    "ax2.scatter(x, logs)\n",
    "ax2.set_title('Curbe du log(1 + ||x* - x(k)||)')\n",
    "plt.show()"
   ]
  },
  {
   "cell_type": "markdown",
   "metadata": {},
   "source": [
    "### Question 5 -- Usage de la fonction _sparse_\n",
    "Une fonctionnalité dans le module __scipy__ est la création de matrices sparses. Le résultat de l'usage d'une matrice sparse du type _csr_ (Compressed Sparse Row) est une courbe plus douce."
   ]
  },
  {
   "cell_type": "code",
   "execution_count": 25,
   "metadata": {},
   "outputs": [
    {
     "data": {
      "text/html": [
       "<div>\n",
       "<style scoped>\n",
       "    .dataframe tbody tr th:only-of-type {\n",
       "        vertical-align: middle;\n",
       "    }\n",
       "\n",
       "    .dataframe tbody tr th {\n",
       "        vertical-align: top;\n",
       "    }\n",
       "\n",
       "    .dataframe thead th {\n",
       "        text-align: right;\n",
       "    }\n",
       "</style>\n",
       "<table border=\"1\" class=\"dataframe\">\n",
       "  <thead>\n",
       "    <tr style=\"text-align: right;\">\n",
       "      <th></th>\n",
       "      <th>0</th>\n",
       "      <th>1</th>\n",
       "      <th>2</th>\n",
       "      <th>3</th>\n",
       "    </tr>\n",
       "  </thead>\n",
       "  <tbody>\n",
       "    <tr>\n",
       "      <th>0</th>\n",
       "      <td>0.037500</td>\n",
       "      <td>0.0375</td>\n",
       "      <td>0.8875</td>\n",
       "      <td>0.4625</td>\n",
       "    </tr>\n",
       "    <tr>\n",
       "      <th>1</th>\n",
       "      <td>0.320833</td>\n",
       "      <td>0.0375</td>\n",
       "      <td>0.0375</td>\n",
       "      <td>0.0375</td>\n",
       "    </tr>\n",
       "    <tr>\n",
       "      <th>2</th>\n",
       "      <td>0.320833</td>\n",
       "      <td>0.4625</td>\n",
       "      <td>0.0375</td>\n",
       "      <td>0.4625</td>\n",
       "    </tr>\n",
       "    <tr>\n",
       "      <th>3</th>\n",
       "      <td>0.320833</td>\n",
       "      <td>0.4625</td>\n",
       "      <td>0.0375</td>\n",
       "      <td>0.0375</td>\n",
       "    </tr>\n",
       "  </tbody>\n",
       "</table>\n",
       "</div>"
      ],
      "text/plain": [
       "          0       1       2       3\n",
       "0  0.037500  0.0375  0.8875  0.4625\n",
       "1  0.320833  0.0375  0.0375  0.0375\n",
       "2  0.320833  0.4625  0.0375  0.4625\n",
       "3  0.320833  0.4625  0.0375  0.0375"
      ]
     },
     "execution_count": 25,
     "metadata": {},
     "output_type": "execute_result"
    }
   ],
   "source": [
    "S = csr_matrix(A)\n",
    "M = calculateM(S, 0.15) #alpha = 0.15\n",
    "frame = pd.DataFrame(M)\n",
    "frame"
   ]
  },
  {
   "cell_type": "code",
   "execution_count": 26,
   "metadata": {},
   "outputs": [
    {
     "data": {
      "image/png": "[encoded data removed]",
      "text/plain": [
       "<Figure size 1296x360 with 2 Axes>"
      ]
     },
     "metadata": {
      "needs_background": "light"
     },
     "output_type": "display_data"
    }
   ],
   "source": [
    "x_etoile = get_score_vector(M)\n",
    "x_current = get_random_x(M.shape[0])\n",
    "\n",
    "points = []\n",
    "logs = []\n",
    "fs = []\n",
    "iterations = 50\n",
    "\n",
    "for i in range(iterations):\n",
    "    y_current = x_current + (1 - gamma * mu) * (x_current - x_ancient)\n",
    "    x_ancient = x_current\n",
    "    x_current = y_current - mu * mu * DF(y_current, M, gamma)\n",
    "\n",
    "    points.append(np.linalg.norm(x_current - x_etoile))\n",
    "    logs.append(np.log(1 + np.linalg.norm(x_current - x_etoile)))\n",
    "    \n",
    "f, (ax1, ax2) = plt.subplots(1, 2, sharey=True, figsize=(18, 5))\n",
    "x = [x for x in range(0, iterations)]\n",
    "ax1.plot(x, points)\n",
    "ax1.set_title('Curbe de ||x(k) - x*||')\n",
    "ax2.scatter(x, logs)\n",
    "ax2.set_title('Curbe du log(1 + ||x* - x(k)||)')\n",
    "plt.show()"
   ]
  }
 ],
 "metadata": {
  "kernelspec": {
   "display_name": "Python 3",
   "language": "python",
   "name": "python3"
  },
  "language_info": {
   "codemirror_mode": {
    "name": "ipython",
    "version": 3
   },
   "file_extension": ".py",
   "mimetype": "text/x-python",
   "name": "python",
   "nbconvert_exporter": "python",
   "pygments_lexer": "ipython3",
   "version": "3.6.7"
  }
 },
 "nbformat": 4,
 "nbformat_minor": 2
}
