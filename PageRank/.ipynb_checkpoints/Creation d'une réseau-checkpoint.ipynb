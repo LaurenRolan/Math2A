{
 "cells": [
  {
   "cell_type": "code",
   "execution_count": 1,
   "metadata": {},
   "outputs": [],
   "source": [
    "import numpy as np\n",
    "import pandas as pd\n",
    "import matplotlib.pyplot as plt"
   ]
  },
  {
   "cell_type": "code",
   "execution_count": 2,
   "metadata": {},
   "outputs": [],
   "source": [
    "def create_net(size):\n",
    "    A = np.zeros((size, size))\n",
    "    for col in A:\n",
    "        num_links = np.random.randint(0, size)\n",
    "        for i in range(num_links):\n",
    "            col[i] = 1 / num_links\n",
    "        np.random.shuffle(col)\n",
    "    A = A.transpose()\n",
    "    return A\n",
    "\n",
    "def calculateM(A, alpha):\n",
    "    M = (1 - alpha) * A\n",
    "    S = np.ones((M.shape[0], M.shape[0]))\n",
    "    S = (alpha / M.shape[0]) * S\n",
    "    M = M + S\n",
    "    return M"
   ]
  },
  {
   "cell_type": "code",
   "execution_count": 3,
   "metadata": {},
   "outputs": [],
   "source": [
    "def get_constants(A, gamma):\n",
    "    beta = 4 + A.shape[0] * gamma\n",
    "    mu = 1.99 / beta\n",
    "    return beta, mu"
   ]
  },
  {
   "cell_type": "code",
   "execution_count": 4,
   "metadata": {},
   "outputs": [
    {
     "data": {
      "text/html": [
       "<div>\n",
       "<style scoped>\n",
       "    .dataframe tbody tr th:only-of-type {\n",
       "        vertical-align: middle;\n",
       "    }\n",
       "\n",
       "    .dataframe tbody tr th {\n",
       "        vertical-align: top;\n",
       "    }\n",
       "\n",
       "    .dataframe thead th {\n",
       "        text-align: right;\n",
       "    }\n",
       "</style>\n",
       "<table border=\"1\" class=\"dataframe\">\n",
       "  <thead>\n",
       "    <tr style=\"text-align: right;\">\n",
       "      <th></th>\n",
       "      <th>0</th>\n",
       "      <th>1</th>\n",
       "      <th>2</th>\n",
       "      <th>3</th>\n",
       "      <th>4</th>\n",
       "      <th>5</th>\n",
       "      <th>6</th>\n",
       "      <th>7</th>\n",
       "      <th>8</th>\n",
       "      <th>9</th>\n",
       "      <th>...</th>\n",
       "      <th>990</th>\n",
       "      <th>991</th>\n",
       "      <th>992</th>\n",
       "      <th>993</th>\n",
       "      <th>994</th>\n",
       "      <th>995</th>\n",
       "      <th>996</th>\n",
       "      <th>997</th>\n",
       "      <th>998</th>\n",
       "      <th>999</th>\n",
       "    </tr>\n",
       "  </thead>\n",
       "  <tbody>\n",
       "    <tr>\n",
       "      <th>0</th>\n",
       "      <td>0.000000</td>\n",
       "      <td>0.0</td>\n",
       "      <td>0.000000</td>\n",
       "      <td>0.013699</td>\n",
       "      <td>0.002427</td>\n",
       "      <td>0.001157</td>\n",
       "      <td>0.000000</td>\n",
       "      <td>0.003968</td>\n",
       "      <td>0.000000</td>\n",
       "      <td>0.001015</td>\n",
       "      <td>...</td>\n",
       "      <td>0.001227</td>\n",
       "      <td>0.000000</td>\n",
       "      <td>0.000000</td>\n",
       "      <td>0.000000</td>\n",
       "      <td>0.003367</td>\n",
       "      <td>0.0</td>\n",
       "      <td>0.000000</td>\n",
       "      <td>0.000000</td>\n",
       "      <td>0.001189</td>\n",
       "      <td>0.002639</td>\n",
       "    </tr>\n",
       "    <tr>\n",
       "      <th>1</th>\n",
       "      <td>0.000000</td>\n",
       "      <td>0.0</td>\n",
       "      <td>0.001664</td>\n",
       "      <td>0.000000</td>\n",
       "      <td>0.000000</td>\n",
       "      <td>0.001157</td>\n",
       "      <td>0.000000</td>\n",
       "      <td>0.003968</td>\n",
       "      <td>0.003413</td>\n",
       "      <td>0.001015</td>\n",
       "      <td>...</td>\n",
       "      <td>0.001227</td>\n",
       "      <td>0.000000</td>\n",
       "      <td>0.002793</td>\n",
       "      <td>0.000000</td>\n",
       "      <td>0.003367</td>\n",
       "      <td>0.0</td>\n",
       "      <td>0.000000</td>\n",
       "      <td>0.000000</td>\n",
       "      <td>0.001189</td>\n",
       "      <td>0.000000</td>\n",
       "    </tr>\n",
       "    <tr>\n",
       "      <th>2</th>\n",
       "      <td>0.002976</td>\n",
       "      <td>0.0</td>\n",
       "      <td>0.001664</td>\n",
       "      <td>0.000000</td>\n",
       "      <td>0.000000</td>\n",
       "      <td>0.001157</td>\n",
       "      <td>0.002427</td>\n",
       "      <td>0.000000</td>\n",
       "      <td>0.003413</td>\n",
       "      <td>0.001015</td>\n",
       "      <td>...</td>\n",
       "      <td>0.001227</td>\n",
       "      <td>0.003058</td>\n",
       "      <td>0.002793</td>\n",
       "      <td>0.000000</td>\n",
       "      <td>0.000000</td>\n",
       "      <td>0.0</td>\n",
       "      <td>0.000000</td>\n",
       "      <td>0.001311</td>\n",
       "      <td>0.000000</td>\n",
       "      <td>0.000000</td>\n",
       "    </tr>\n",
       "    <tr>\n",
       "      <th>3</th>\n",
       "      <td>0.000000</td>\n",
       "      <td>0.0</td>\n",
       "      <td>0.001664</td>\n",
       "      <td>0.000000</td>\n",
       "      <td>0.000000</td>\n",
       "      <td>0.001157</td>\n",
       "      <td>0.000000</td>\n",
       "      <td>0.000000</td>\n",
       "      <td>0.000000</td>\n",
       "      <td>0.001015</td>\n",
       "      <td>...</td>\n",
       "      <td>0.001227</td>\n",
       "      <td>0.003058</td>\n",
       "      <td>0.002793</td>\n",
       "      <td>0.003195</td>\n",
       "      <td>0.000000</td>\n",
       "      <td>0.0</td>\n",
       "      <td>0.006289</td>\n",
       "      <td>0.001311</td>\n",
       "      <td>0.001189</td>\n",
       "      <td>0.002639</td>\n",
       "    </tr>\n",
       "    <tr>\n",
       "      <th>4</th>\n",
       "      <td>0.000000</td>\n",
       "      <td>0.0</td>\n",
       "      <td>0.000000</td>\n",
       "      <td>0.000000</td>\n",
       "      <td>0.000000</td>\n",
       "      <td>0.001157</td>\n",
       "      <td>0.002427</td>\n",
       "      <td>0.003968</td>\n",
       "      <td>0.000000</td>\n",
       "      <td>0.001015</td>\n",
       "      <td>...</td>\n",
       "      <td>0.001227</td>\n",
       "      <td>0.003058</td>\n",
       "      <td>0.000000</td>\n",
       "      <td>0.000000</td>\n",
       "      <td>0.000000</td>\n",
       "      <td>0.0</td>\n",
       "      <td>0.000000</td>\n",
       "      <td>0.001311</td>\n",
       "      <td>0.001189</td>\n",
       "      <td>0.000000</td>\n",
       "    </tr>\n",
       "  </tbody>\n",
       "</table>\n",
       "<p>5 rows × 1000 columns</p>\n",
       "</div>"
      ],
      "text/plain": [
       "        0    1         2         3         4         5         6         7    \\\n",
       "0  0.000000  0.0  0.000000  0.013699  0.002427  0.001157  0.000000  0.003968   \n",
       "1  0.000000  0.0  0.001664  0.000000  0.000000  0.001157  0.000000  0.003968   \n",
       "2  0.002976  0.0  0.001664  0.000000  0.000000  0.001157  0.002427  0.000000   \n",
       "3  0.000000  0.0  0.001664  0.000000  0.000000  0.001157  0.000000  0.000000   \n",
       "4  0.000000  0.0  0.000000  0.000000  0.000000  0.001157  0.002427  0.003968   \n",
       "\n",
       "        8         9      ...          990       991       992       993  \\\n",
       "0  0.000000  0.001015    ...     0.001227  0.000000  0.000000  0.000000   \n",
       "1  0.003413  0.001015    ...     0.001227  0.000000  0.002793  0.000000   \n",
       "2  0.003413  0.001015    ...     0.001227  0.003058  0.002793  0.000000   \n",
       "3  0.000000  0.001015    ...     0.001227  0.003058  0.002793  0.003195   \n",
       "4  0.000000  0.001015    ...     0.001227  0.003058  0.000000  0.000000   \n",
       "\n",
       "        994  995       996       997       998       999  \n",
       "0  0.003367  0.0  0.000000  0.000000  0.001189  0.002639  \n",
       "1  0.003367  0.0  0.000000  0.000000  0.001189  0.000000  \n",
       "2  0.000000  0.0  0.000000  0.001311  0.000000  0.000000  \n",
       "3  0.000000  0.0  0.006289  0.001311  0.001189  0.002639  \n",
       "4  0.000000  0.0  0.000000  0.001311  0.001189  0.000000  \n",
       "\n",
       "[5 rows x 1000 columns]"
      ]
     },
     "execution_count": 4,
     "metadata": {},
     "output_type": "execute_result"
    }
   ],
   "source": [
    "\n",
    "A = create_net(1000)\n",
    "M = calculateM(A, 0.15) #alpha = 0.15\n",
    "net = pd.DataFrame(A)\n",
    "net.head()"
   ]
  },
  {
   "cell_type": "code",
   "execution_count": 5,
   "metadata": {},
   "outputs": [],
   "source": [
    "def get_gamma(n_sqrd, size):\n",
    "    if(n_sqrd):\n",
    "        return float (1) / size * size #gamma = 1 / n²\n",
    "    return float (1) / size            #gamma = 1 / n\n",
    "\n",
    "gamma = get_gamma(False, M.shape[0])\n",
    "beta, mu = get_constants(A, gamma)"
   ]
  },
  {
   "cell_type": "code",
   "execution_count": 6,
   "metadata": {},
   "outputs": [],
   "source": [
    "def get_score_vector(M):\n",
    "    v, w = np.linalg.eig(M)\n",
    "    v = np.real(v)\n",
    "    (m,) = np.shape(v)\n",
    "    for i in range(m):\n",
    "        if abs(v[i]-1) < 1e-2:\n",
    "            vi = w[:, i]\n",
    "    vi = np.real(vi)\n",
    "    vi = vi/np.linalg.norm(vi, 1)\n",
    "    vi = np.round(vi, 3)\n",
    "    return(vi)\n",
    "\n",
    "def get_random_x(size):\n",
    "    return np.matrix(np.random.randint(size-1, size=size).reshape((size, 1)))"
   ]
  },
  {
   "cell_type": "code",
   "execution_count": 7,
   "metadata": {},
   "outputs": [],
   "source": [
    "def DF(x, M, gamma):\n",
    "    I = np.identity(M.shape[0])\n",
    "    e = np.ones((M.shape[0], 1))\n",
    "\n",
    "    mul = np.transpose(M - I) * (M - I)\n",
    "    scalar = np.sum(x) - 1\n",
    "    DF = mul * x + gamma * e * scalar\n",
    "    return DF\n",
    "\n",
    "def F(x, M, gamma):\n",
    "    ''' inner_x = 1/2 ||Mx - x||\n",
    "        inner_y = gamma/2 (sum(x) -1)^2'''\n",
    "    inner_X = 0.5 * np.linalg.norm( M * x - x )\n",
    "    inner_Y = gamma * 0.5 * (np.sum(x) - 1) ** 2\n",
    "    return np.round(inner_X + inner_Y, 5)"
   ]
  },
  {
   "cell_type": "code",
   "execution_count": 8,
   "metadata": {},
   "outputs": [],
   "source": [
    "x_etoile = get_score_vector(M)\n",
    "x_current = get_random_x(M.shape[0])\n",
    "DF_x_etoile = DF(x_etoile, M, gamma)"
   ]
  },
  {
   "cell_type": "code",
   "execution_count": 9,
   "metadata": {},
   "outputs": [],
   "source": [
    "points = []\n",
    "logs = []\n",
    "fs = []\n",
    "iterations = 20"
   ]
  },
  {
   "cell_type": "code",
   "execution_count": 10,
   "metadata": {},
   "outputs": [],
   "source": [
    "for i in range(iterations):\n",
    "    DF_x_current = DF(x_current, M, gamma)\n",
    "    x_current = x_current - mu * DF_x_current\n",
    "    points.append(np.linalg.norm(x_current - x_etoile))\n",
    "    logs.append(np.log(1 + np.linalg.norm(x_etoile - x_current)))\n",
    "    fs.append(F(x_current, M, gamma))"
   ]
  },
  {
   "cell_type": "code",
   "execution_count": 11,
   "metadata": {},
   "outputs": [
    {
     "data": {
      "image/png": "[encoded data removed]",
      "text/plain": [
       "<Figure size 1296x360 with 2 Axes>"
      ]
     },
     "metadata": {
      "needs_background": "light"
     },
     "output_type": "display_data"
    }
   ],
   "source": [
    "f, (ax1, ax2) = plt.subplots(1, 2, sharey=True, figsize=(18, 5))\n",
    "x = [x for x in range(0, iterations)]\n",
    "ax1.plot(x, points)\n",
    "ax1.set_title('Curbe de ||x(k) - x*||')\n",
    "ax2.scatter(x, logs)\n",
    "ax2.set_title('Curbe du log(1 + ||x* - x(k)||)')\n",
    "plt.show()"
   ]
  },
  {
   "cell_type": "code",
   "execution_count": 12,
   "metadata": {},
   "outputs": [
    {
     "data": {
      "image/png": "[encoded data removed]",
      "text/plain": [
       "<Figure size 432x288 with 1 Axes>"
      ]
     },
     "metadata": {
      "needs_background": "light"
     },
     "output_type": "display_data"
    }
   ],
   "source": [
    "plt.plot([x for x in range(0, iterations)], fs, 'b^')\n",
    "plt.show()"
   ]
  }
 ],
 "metadata": {
  "kernelspec": {
   "display_name": "Python 3",
   "language": "python",
   "name": "python3"
  },
  "language_info": {
   "codemirror_mode": {
    "name": "ipython",
    "version": 3
   },
   "file_extension": ".py",
   "mimetype": "text/x-python",
   "name": "python",
   "nbconvert_exporter": "python",
   "pygments_lexer": "ipython3",
   "version": "3.6.7"
  }
 },
 "nbformat": 4,
 "nbformat_minor": 2
}
